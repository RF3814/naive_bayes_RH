{
    "cells": [
        {
            "cell_type": "markdown",
            "metadata": {},
            "source": [
                "# Explore here"
            ]
        },
        {
            "cell_type": "code",
            "execution_count": 54,
            "metadata": {},
            "outputs": [],
            "source": [
                "import pandas as pd\n",
                "import numpy as np\n",
                "import seaborn as sns\n",
                "import matplotlib.pyplot as plt\n"
            ]
        },
        {
            "cell_type": "code",
            "execution_count": 55,
            "metadata": {},
            "outputs": [
                {
                    "data": {
                        "text/html": [
                            "<div>\n",
                            "<style scoped>\n",
                            "    .dataframe tbody tr th:only-of-type {\n",
                            "        vertical-align: middle;\n",
                            "    }\n",
                            "\n",
                            "    .dataframe tbody tr th {\n",
                            "        vertical-align: top;\n",
                            "    }\n",
                            "\n",
                            "    .dataframe thead th {\n",
                            "        text-align: right;\n",
                            "    }\n",
                            "</style>\n",
                            "<table border=\"1\" class=\"dataframe\">\n",
                            "  <thead>\n",
                            "    <tr style=\"text-align: right;\">\n",
                            "      <th></th>\n",
                            "      <th>package_name</th>\n",
                            "      <th>review</th>\n",
                            "      <th>polarity</th>\n",
                            "    </tr>\n",
                            "  </thead>\n",
                            "  <tbody>\n",
                            "    <tr>\n",
                            "      <th>0</th>\n",
                            "      <td>com.facebook.katana</td>\n",
                            "      <td>privacy at least put some option appear offli...</td>\n",
                            "      <td>0</td>\n",
                            "    </tr>\n",
                            "    <tr>\n",
                            "      <th>1</th>\n",
                            "      <td>com.facebook.katana</td>\n",
                            "      <td>messenger issues ever since the last update, ...</td>\n",
                            "      <td>0</td>\n",
                            "    </tr>\n",
                            "    <tr>\n",
                            "      <th>2</th>\n",
                            "      <td>com.facebook.katana</td>\n",
                            "      <td>profile any time my wife or anybody has more ...</td>\n",
                            "      <td>0</td>\n",
                            "    </tr>\n",
                            "    <tr>\n",
                            "      <th>3</th>\n",
                            "      <td>com.facebook.katana</td>\n",
                            "      <td>the new features suck for those of us who don...</td>\n",
                            "      <td>0</td>\n",
                            "    </tr>\n",
                            "    <tr>\n",
                            "      <th>4</th>\n",
                            "      <td>com.facebook.katana</td>\n",
                            "      <td>forced reload on uploading pic on replying co...</td>\n",
                            "      <td>0</td>\n",
                            "    </tr>\n",
                            "  </tbody>\n",
                            "</table>\n",
                            "</div>"
                        ],
                        "text/plain": [
                            "          package_name                                             review  \\\n",
                            "0  com.facebook.katana   privacy at least put some option appear offli...   \n",
                            "1  com.facebook.katana   messenger issues ever since the last update, ...   \n",
                            "2  com.facebook.katana   profile any time my wife or anybody has more ...   \n",
                            "3  com.facebook.katana   the new features suck for those of us who don...   \n",
                            "4  com.facebook.katana   forced reload on uploading pic on replying co...   \n",
                            "\n",
                            "   polarity  \n",
                            "0         0  \n",
                            "1         0  \n",
                            "2         0  \n",
                            "3         0  \n",
                            "4         0  "
                        ]
                    },
                    "execution_count": 55,
                    "metadata": {},
                    "output_type": "execute_result"
                }
            ],
            "source": [
                "#Vamos a partir abriendo el dataset y haciendo el EDA correspondiente \n",
                "df=pd.read_csv(\"https://raw.githubusercontent.com/4GeeksAcademy/naive-bayes-project-tutorial/main/playstore_reviews.csv\")\n",
                "df.head(5)"
            ]
        },
        {
            "cell_type": "code",
            "execution_count": 56,
            "metadata": {},
            "outputs": [
                {
                    "data": {
                        "text/plain": [
                            "0      privacy at least put some option appear offlin...\n",
                            "1      messenger issues ever since the last update, i...\n",
                            "2      profile any time my wife or anybody has more t...\n",
                            "3      the new features suck for those of us who don'...\n",
                            "4      forced reload on uploading pic on replying com...\n",
                            "                             ...                        \n",
                            "886    loved it i loooooooooooooovvved it because it ...\n",
                            "887    all time legendary game the birthday party lev...\n",
                            "888    ads are way to heavy listen to the bad reviews...\n",
                            "889    fun works perfectly well. ads aren't as annoyi...\n",
                            "890    they're everywhere i see angry birds everywher...\n",
                            "Name: review, Length: 891, dtype: object"
                        ]
                    },
                    "execution_count": 56,
                    "metadata": {},
                    "output_type": "execute_result"
                }
            ],
            "source": [
                "#pasamos todos los comentarios a minusculas\n",
                "df[\"review\"]=df[\"review\"].str.strip().str.lower()\n",
                "df[\"review\"]\n"
            ]
        },
        {
            "cell_type": "code",
            "execution_count": 57,
            "metadata": {},
            "outputs": [
                {
                    "data": {
                        "text/plain": [
                            "<bound method CountVectorizer.get_feature_names_out of CountVectorizer(stop_words='english')>"
                        ]
                    },
                    "execution_count": 57,
                    "metadata": {},
                    "output_type": "execute_result"
                }
            ],
            "source": [
                "from sklearn.feature_extraction.text import CountVectorizer\n",
                "vec_model=CountVectorizer(stop_words=\"english\")\n",
                "vec_model.fit(df[\"review\"])\n",
                "vec_model.get_feature_names_out\n"
            ]
        },
        {
            "cell_type": "code",
            "execution_count": 67,
            "metadata": {},
            "outputs": [],
            "source": [
                "#ahora vamos a hacer los x e y de test y train con train testsplit \n",
                "#todo esto antes de transformar los datos\n",
                "from sklearn.model_selection import train_test_split\n",
                "X=df[\"review\"]\n",
                "y=df[\"polarity\"]\n",
                "X_train,X_test,y_train,y_test=train_test_split(X, y , test_size=0.2 , random_state=42)"
            ]
        },
        {
            "cell_type": "code",
            "execution_count": 68,
            "metadata": {},
            "outputs": [],
            "source": [
                "X_train =vec_model.fit_transform(X_train).toarray()\n",
                "X_test=vec_model.transform(X_test).toarray()\n"
            ]
        },
        {
            "cell_type": "code",
            "execution_count": 71,
            "metadata": {},
            "outputs": [],
            "source": [
                "from sklearn.naive_bayes import MultinomialNB,GaussianNB,BernoulliNB"
            ]
        },
        {
            "cell_type": "code",
            "execution_count": null,
            "metadata": {},
            "outputs": [],
            "source": [
                "#entrenamos los distintos modelos para uego compararlos.\n",
                "multinominal_model=MultinomialNB()\n",
                "Gaussian_model=GaussianNB()\n",
                "Bernoulli_model=BernoulliNB()\n",
                "multinominal_model.fit(X_train,y_train)\n",
                "Gaussian_model.fit(X_train,y_train)\n",
                "Bernoulli_model.fit(X_train,y_train)\n",
                "from sklearn.metrics import accuracy_score,confusion_matrix,classification_report\n",
                "y_pred_multinominal=multinominal_model.predict(X_test)\n",
                "y_pred_Gaussian=Gaussian_model.predict(X_test)\n",
                "y_pred_Bernoulli=Bernoulli_model.predict(X_test)\n",
                "\n",
                "\n"
            ]
        },
        {
            "cell_type": "code",
            "execution_count": null,
            "metadata": {},
            "outputs": [
                {
                    "name": "stdout",
                    "output_type": "stream",
                    "text": [
                        "Accuracy Multinomial: 0.8156424581005587\n",
                        "Accuracy Gaussian: 0.8044692737430168\n",
                        "Accuracy Bernoulli: 0.770949720670391\n"
                    ]
                }
            ],
            "source": [
                "#calculamos las accuracies de los distintos tipos de tests.\n",
                "accu_multinominal=accuracy_score(y_test,y_pred_multinominal)\n",
                "accu_Gaussian=accuracy_score(y_test,y_pred_Gaussian)\n",
                "accu_Bernoulli=accuracy_score(y_test,y_pred_Bernoulli)\n",
                "print(\"Accuracy Multinomial:\", accu_multinominal)\n",
                "print(\"Accuracy Gaussian:\", accu_Gaussian)\n",
                "print(\"Accuracy Bernoulli:\", accu_Bernoulli)\n"
            ]
        },
        {
            "cell_type": "code",
            "execution_count": 79,
            "metadata": {},
            "outputs": [
                {
                    "name": "stdout",
                    "output_type": "stream",
                    "text": [
                        "Confusion Matrix Multinomial:\n",
                        " [[114  12]\n",
                        " [ 21  32]]\n",
                        "Confusion Matrix Gaussian:\n",
                        " [[111  15]\n",
                        " [ 20  33]]\n",
                        "Confusion Matrix Bernoulli:\n",
                        " [[117   9]\n",
                        " [ 32  21]]\n"
                    ]
                }
            ],
            "source": [
                "#matriz de conficion de los distintos modelos\n",
                "confusion_multinominal=confusion_matrix(y_test,y_pred_multinominal)\n",
                "confusion_Gaussian=confusion_matrix(y_test,y_pred_Gaussian)\n",
                "confusion_Bernoulli=confusion_matrix(y_test,y_pred_Bernoulli)\n",
                "print(\"Confusion Matrix Multinomial:\\n\", confusion_multinominal)\n",
                "print(\"Confusion Matrix Gaussian:\\n\", confusion_Gaussian)\n",
                "print(\"Confusion Matrix Bernoulli:\\n\", confusion_Bernoulli)\n",
                "\n"
            ]
        },
        {
            "cell_type": "code",
            "execution_count": 81,
            "metadata": {},
            "outputs": [
                {
                    "name": "stdout",
                    "output_type": "stream",
                    "text": [
                        "Classification Report Multinomial:\n",
                        "               precision    recall  f1-score   support\n",
                        "\n",
                        "           0       0.84      0.90      0.87       126\n",
                        "           1       0.73      0.60      0.66        53\n",
                        "\n",
                        "    accuracy                           0.82       179\n",
                        "   macro avg       0.79      0.75      0.77       179\n",
                        "weighted avg       0.81      0.82      0.81       179\n",
                        "\n",
                        "Classification Report Gaussian:\n",
                        "               precision    recall  f1-score   support\n",
                        "\n",
                        "           0       0.85      0.88      0.86       126\n",
                        "           1       0.69      0.62      0.65        53\n",
                        "\n",
                        "    accuracy                           0.80       179\n",
                        "   macro avg       0.77      0.75      0.76       179\n",
                        "weighted avg       0.80      0.80      0.80       179\n",
                        "\n",
                        "Classification Report Bernoulli:\n",
                        "               precision    recall  f1-score   support\n",
                        "\n",
                        "           0       0.79      0.93      0.85       126\n",
                        "           1       0.70      0.40      0.51        53\n",
                        "\n",
                        "    accuracy                           0.77       179\n",
                        "   macro avg       0.74      0.66      0.68       179\n",
                        "weighted avg       0.76      0.77      0.75       179\n",
                        "\n"
                    ]
                }
            ],
            "source": [
                "reporte_multinominal=classification_report(y_test,y_pred_multinominal)\n",
                "reporte_gaussian=classification_report(y_test,y_pred_Gaussian)\n",
                "reporte_bernoulli=classification_report(y_test,y_pred_Bernoulli)\n",
                "print(\"Classification Report Multinomial:\\n\", reporte_multinominal)\n",
                "print(\"Classification Report Gaussian:\\n\", reporte_gaussian)\n",
                "print(\"Classification Report Bernoulli:\\n\", reporte_bernoulli)\n",
                "\n",
                "\n"
            ]
        },
        {
            "cell_type": "markdown",
            "metadata": {},
            "source": [
                "finalmente podemos notar que el multinominal es le mejor modelo en este caso. gracias a que tiene mejor accuracy y el porcentaje de aciertos en ambas categorias es mas o menos parejo.\n"
            ]
        },
        {
            "cell_type": "code",
            "execution_count": 82,
            "metadata": {},
            "outputs": [],
            "source": [
                "from pickle import dump\n",
                "dump(Gaussian_model,open(\"../models/Gaussian_model.pkl\",\"wb\"))\n",
                "dump(multinominal_model,open(\"../models/multinominal_model.pkl\",\"wb\"))\n",
                "dump(Bernoulli_model,open(\"../models/Bernoulli_model.pkl\",\"wb\"))"
            ]
        }
    ],
    "metadata": {
        "kernelspec": {
            "display_name": "Python 3",
            "language": "python",
            "name": "python3"
        },
        "language_info": {
            "codemirror_mode": {
                "name": "ipython",
                "version": 3
            },
            "file_extension": ".py",
            "mimetype": "text/x-python",
            "name": "python",
            "nbconvert_exporter": "python",
            "pygments_lexer": "ipython3",
            "version": "3.11.9"
        },
        "orig_nbformat": 4
    },
    "nbformat": 4,
    "nbformat_minor": 2
}
